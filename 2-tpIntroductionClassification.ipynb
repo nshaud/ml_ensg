{
 "cells": [
  {
   "cell_type": "markdown",
   "id": "db4182d7-0580-483e-8b00-316cd6708479",
   "metadata": {},
   "source": [
    "# Travaux pratiques - Classification des sols\n",
    "\n",
    "**L’objectif** de cette deuxième séance de travaux pratiques est de vous faire manipuler des données réelles pour une tâche de classification de couverture des sols à partir d'images aériennes ou satellitaires.\n",
    "\n",
    "Références externes utiles :\n",
    "- [Documentation NumPy](https://docs.scipy.org/doc/numpy/user/index.html)  \n",
    "- [Documentation SciPy](https://docs.scipy.org/doc/scipy/reference/)  \n",
    "- [Documentation MatPlotLib](http://matplotlib.org/)  \n",
    "- [Documentation de scikit-learn](http://scikit-learn.org/stable/index.html)  "
   ]
  },
  {
   "cell_type": "code",
   "execution_count": null,
   "id": "f77361db-b769-4384-a669-92f9a00b6127",
   "metadata": {},
   "outputs": [],
   "source": [
    "import matplotlib.pyplot as plt\n",
    "import numpy as np\n",
    "import sklearn"
   ]
  },
  {
   "cell_type": "markdown",
   "id": "3e07e8f5-099d-491c-845b-22aae1f96db0",
   "metadata": {},
   "source": [
    "## Classification pixellique\n",
    "\n",
    "Pour commencer, nous allons considérer le jeu de données *Pavia University*. Il s'agit d'une image hyperspectrale annotée de $610\\times340$ pixels, comprenant 103 bandes spectrales. L'acquisitition a été réalisée à l'aide du spectromètre ROSIS-3, et couvre une partie de l'université de Pavie en Italie. Le jeu de données total comporte ainsi 42776 pixels annotés dans 9 classes différentes : *asphalt*, *meadows*, *gravel*, *trees*, *metal sheet*, *bare soil*, *bitumen*, *brick*, et *shadow*."
   ]
  },
  {
   "cell_type": "code",
   "execution_count": null,
   "id": "5610c75c-4559-4510-a995-42ea82ead3df",
   "metadata": {},
   "outputs": [],
   "source": [
    "from scipy.io import loadmat\n",
    "from urllib.request import urlretrieve\n",
    "urlretrieve(\"https://www.ehu.eus/ccwintco/uploads/e/ee/PaviaU.mat\", \"PaviaU.mat\")\n",
    "urlretrieve(\"https://www.ehu.eus/ccwintco/uploads/5/50/PaviaU_gt.mat\", \"PaviaU_gt.mat\")"
   ]
  },
  {
   "cell_type": "code",
   "execution_count": null,
   "id": "ae4baf70-2832-4990-942d-8f7d7f09581d",
   "metadata": {},
   "outputs": [],
   "source": [
    "pavia_image = loadmat(\"PaviaU.mat\")[\"paviaU\"]\n",
    "pavia_gt = loadmat(\"PaviaU_gt.mat\")[\"paviaU_gt\"]"
   ]
  },
  {
   "cell_type": "code",
   "execution_count": null,
   "id": "2b3d8849-d538-4ef0-9077-63feffdf21f5",
   "metadata": {},
   "outputs": [],
   "source": [
    "rgb_bands = (55,41,12)\n",
    "pavia_rgb = pavia_image[:,:,rgb_bands]\n",
    "\n",
    "fig = plt.figure(figsize=(12, 12))\n",
    "fig.add_subplot(1,2,1)\n",
    "plt.imshow((pavia_rgb - pavia_rgb.min()) / pavia_rgb.max())\n",
    "plt.title(\"Image pseudo-RGB\")\n",
    "fig.add_subplot(1,2,2)\n",
    "plt.imshow(pavia_gt, cmap=\"Pastel1\")\n",
    "plt.title(\"Vérité terrain\")\n",
    "plt.show()"
   ]
  },
  {
   "cell_type": "markdown",
   "id": "c6a1ad88-2a0b-4fc6-8097-f129807e156c",
   "metadata": {},
   "source": [
    "## Question\n",
    "\n",
    "Comment faut-il diviser le jeu de données en train/test pour que l'évaluation ne soit pas biaisée ?"
   ]
  },
  {
   "cell_type": "markdown",
   "id": "10654f03-0270-4a50-a99f-7a7eb65b3d3a",
   "metadata": {},
   "source": [
    "Nous pouvons donc séparer le jeu de données, de façon plus ou moins arbitraire, en créant une grille approximativement carrée. Chaque bloc de la grille sera soit en train, soit en test."
   ]
  },
  {
   "cell_type": "code",
   "execution_count": null,
   "id": "3bb865dc-6e2d-49ad-b635-4b1df1ae74ab",
   "metadata": {},
   "outputs": [],
   "source": [
    "groups = np.zeros_like(pavia_gt)\n",
    "h, w = groups.shape\n",
    "idx = 0\n",
    "for x in range(0, h, h // 5):\n",
    "    for y in range(0, w, int(w / 2.5)):\n",
    "        groups[x:x+h//5, y:y+int(w / 2.5)] = idx\n",
    "        idx += 1\n",
    "\n",
    "train_mask = (groups % 2).astype(\"bool\")\n",
    "\n",
    "pavia_image_train = pavia_image[train_mask]\n",
    "pavia_image_test = pavia_image[~train_mask]\n",
    "pavia_gt_train = pavia_gt[train_mask]\n",
    "pavia_gt_test = pavia_gt[~train_mask]\n",
    "\n",
    "fig = plt.figure(figsize=(10, 6))\n",
    "fig.add_subplot(1,3,1)\n",
    "plt.imshow(groups)\n",
    "plt.title(\"Groupes\")\n",
    "fig.add_subplot(1,3,2)\n",
    "plt.imshow(np.bitwise_and(pavia_gt, train_mask))\n",
    "plt.title(\"Jeu d'entraînement\")\n",
    "fig.add_subplot(1,3,3)\n",
    "plt.imshow(np.bitwise_and(pavia_gt, ~train_mask))\n",
    "plt.title(\"Jeu d'évaluation\")\n",
    "plt.show()"
   ]
  },
  {
   "cell_type": "markdown",
   "id": "e5c2f3d5-dedb-4d6c-a35d-12d390ca8735",
   "metadata": {},
   "source": [
    "Nous pouvons maintenant mettre en forme le jeu de données pour son traitement avec scikit-learn. L'opération dans notre cas consiste à formater les pixels (de train puis de test) sous forme d'une liste de vecteurs (chaque vecteur correspondant aux réflectances de 103 bandes spectrales). C'est donc un simple redimensionnement avec numpy. Attention toutefois, une subtilité de ce jeu de données est que la classe 0 correspond en réalité aux pixels *non annotés* : il faut donc les retirer (on ne souhaite ni s'entraîner dessus, ni s'évaluer dessus)."
   ]
  },
  {
   "cell_type": "code",
   "execution_count": null,
   "id": "4be3d408-93ed-4ece-9f71-5c429316ef06",
   "metadata": {},
   "outputs": [],
   "source": [
    "X_train = pavia_image_train[pavia_gt_train != 0].reshape(-1, 103)\n",
    "y_train = pavia_gt_train[pavia_gt_train != 0].reshape(-1)\n",
    "\n",
    "X_test = pavia_image_test[pavia_gt_test != 0].reshape(-1, 103)\n",
    "y_test = pavia_gt_test[pavia_gt_test != 0].reshape(-1)"
   ]
  },
  {
   "cell_type": "markdown",
   "id": "402edf18-c65c-4465-a9fd-d80c0446e970",
   "metadata": {},
   "source": [
    "## Question\n",
    "\n",
    "Utilisez le classifieur de votre choix de scikit-learn et appliquez-le sur le jeu de données. Examinez ses performances avec différents paramètres *sur le jeu de validation*. N'oubliez pas de faire attention à la métrique à utiliser (le jeu de données est-il équilibré ? y a-t-il des classes plus difficiles à prédire que d'autres ?)."
   ]
  },
  {
   "cell_type": "code",
   "execution_count": null,
   "id": "dc89b688-9f72-498c-ad62-20f54f4a567a",
   "metadata": {},
   "outputs": [],
   "source": []
  },
  {
   "cell_type": "markdown",
   "id": "cfea5450-b4b6-45d3-89c1-afead1aadd7b",
   "metadata": {},
   "source": [
    "Il est possible ensuite d'afficher les prédictions sur le jeu de test et de les comparer à la vérité terrain :"
   ]
  },
  {
   "cell_type": "code",
   "execution_count": null,
   "id": "6372c31c-469a-4f57-a20e-f30ddb8a2fed",
   "metadata": {},
   "outputs": [],
   "source": [
    "predictions = np.zeros_like(pavia_gt)\n",
    "predictions[np.bitwise_and(pavia_gt != 0, ~train_mask)] = y_pred\n",
    "\n",
    "fig = plt.figure(figsize=(10, 10))\n",
    "fig.add_subplot(1,2,1)\n",
    "plt.imshow(pavia_gt, cmap=\"Pastel1\")\n",
    "plt.title(\"Vérité terrain\")\n",
    "fig.add_subplot(1,2,2)\n",
    "plt.imshow(predictions, cmap=\"Pastel1\")\n",
    "plt.title(\"Prédictions\")\n",
    "plt.show()"
   ]
  },
  {
   "cell_type": "markdown",
   "id": "3189c89c-aec1-459c-99f9-b267f3770e1a",
   "metadata": {},
   "source": [
    "### Clustering"
   ]
  },
  {
   "cell_type": "markdown",
   "id": "5c3b8e4b-bf6d-4939-960a-098930aff369",
   "metadata": {},
   "source": [
    "Dans ce cas, le jeu de données est annoté, c'est-à-dire que l'on dispose d'étiquettes de classe pour chaque observation. Cela nous permet d'entraîner des modèles *supervisés*. Toutefois, ce n'est pas toujours le cas. Si nous n'avions pas d'étiquettes, une option consiste à réaliser une classification automatique à l'aide d'une méthode de *clustering*, par exemple $k$-*means*. Dans ce cas, il n'y a pas forcément d'intérêt à séparer le jeu de données en apprentissage et validation, car nous n'avons pas de données annotées sur lesquelles calculer une vérité terrain.\n",
    "\n",
    "Avec scikit-learn, il est possible d'utiliser l'objet [KMeans](https://scikit-learn.org/stable/modules/generated/sklearn.cluster.KMeans.html) pour utiliser cet algorithme :"
   ]
  },
  {
   "cell_type": "code",
   "execution_count": null,
   "id": "d88b7ceb-e396-4432-8f41-dc5ceb2485ad",
   "metadata": {},
   "outputs": [],
   "source": [
    "from sklearn.cluster import KMeans\n",
    "\n",
    "X = pavia_image.reshape(-1, 103)\n",
    "\n",
    "kmeans = KMeans(n_clusters=10)\n",
    "labels = kmeans.fit_predict(X)"
   ]
  },
  {
   "cell_type": "markdown",
   "id": "902b1a6b-a608-4d78-b831-2085ddd688a8",
   "metadata": {},
   "source": [
    "## Question\n",
    "\n",
    "À l'aide de matplotlib, affichez la carte de l'université de Pavie colorisé selon les clusters déterminés par K-Means. Comparez visuellement à la vérité terrain pour différentes valeurs de $k$. Qu'en pensez-vous ?"
   ]
  },
  {
   "cell_type": "code",
   "execution_count": null,
   "id": "520b17b1-ada6-4216-a5d5-6f27088b401b",
   "metadata": {},
   "outputs": [],
   "source": []
  },
  {
   "cell_type": "markdown",
   "id": "23f80692-5c7c-45f7-9230-5728967bcca6",
   "metadata": {},
   "source": [
    "## Classification d'images sur EuroSAT"
   ]
  },
  {
   "cell_type": "markdown",
   "id": "a5c6033d-7f22-4054-8cd4-99e81dce3488",
   "metadata": {},
   "source": [
    "Pour aller plus loin, nous allons nous intéresser au jeu de\n",
    "données [EuroSAT](https://github.com/phelber/EuroSAT), qui est une\n",
    "base d’images contenant :\n",
    "\n",
    "- 10 classes (bâtiments industriels, bâtiments\n",
    "  résidentiels, cultures saisonnières, cultures permanentes, rivières,\n",
    "  lacs & mers, végétation herbacée, routes/autoroutes, pâturages et\n",
    "  forêts).  \n",
    "- Il y a 270000 images au total (162000 pour l'apprentissage, 5400 pour la validation et 5400 pour l'évaluation).\n",
    "- Les images sont de taille $ 64\\times64 $. Les images que\n",
    "  nous allons utiliser sont en couleur (RGB) mais il existe une version\n",
    "  multispectrale utilisant 13 longueurs d’onde différentes.  \n",
    "\n",
    "Pour simplifier la prise en mains, nous allons la bibliothèque [`datasets`](https://huggingface.co/docs/datasets/v1.2.0/index.html) qui permet d'importer directement ce jeu de données en une seule commande. Commençons par visualiser quelques images :"
   ]
  },
  {
   "cell_type": "code",
   "execution_count": null,
   "id": "620acf6a-a7da-4a8b-bf8e-d13262d50905",
   "metadata": {},
   "outputs": [],
   "source": [
    "import matplotlib.pyplot as plt\n",
    "import numpy as np\n",
    "\n",
    "from datasets import load_dataset\n",
    "eurosat = load_dataset(\"blanchon/EuroSAT_RGB\")\n",
    "\n",
    "fig = plt.figure(figsize=(18, 6))\n",
    "for idx, data in enumerate(eurosat['train'].shuffle()):\n",
    "    if idx >= 10:\n",
    "        break\n",
    "    fig.add_subplot(1, 10, idx+1)\n",
    "    plt.imshow(data['image'])\n",
    "    plt.axis(\"off\")\n",
    "    plt.title(data['filename'].split('_')[0])\n",
    "plt.show()"
   ]
  },
  {
   "cell_type": "markdown",
   "id": "3e0ac2ec-1aac-4b08-a16f-1cc06a1c6e85",
   "metadata": {},
   "source": [
    "Il s'agit comme indiqué précédemment d'images Sentinel-2 à 10m/px de résolution. Plus précisément, il s'agit des bandes dans le domaine visible, formant une pseudo-image RGB."
   ]
  },
  {
   "cell_type": "markdown",
   "id": "1258997e-0e6c-491b-bb92-25ce60a73801",
   "metadata": {},
   "source": [
    "La fonction `create_dataset` ci-dessous permet de convertir le jeu de données EuroSAT au format attendu par scikit-learn, c'est-à-dire des tableaux NumPy. Elle transforme le jeu de données en deux tableaux `X` (contenant les images) et `y` (content les étiquettes des classes). Les images transformées en descripteurs (*features*). Pour l'instant, on se contente de redimensionner les images au format $8\\times8$ et de la transformer en vecteur. "
   ]
  },
  {
   "cell_type": "code",
   "execution_count": null,
   "id": "7752066b-d5a0-4346-babf-9780f4eb09cc",
   "metadata": {},
   "outputs": [],
   "source": [
    "from PIL import Image\n",
    "# Exemple de redimensionnement d'image avec PIL\n",
    "im = eurosat['train'][0]['image']\n",
    "im.resize((8, 8))"
   ]
  },
  {
   "cell_type": "code",
   "execution_count": null,
   "id": "8f2ed89e-2933-426c-97b4-7a0080569f54",
   "metadata": {},
   "outputs": [],
   "source": [
    "from tqdm.auto import tqdm\n",
    "\n",
    "def create_dataset(dataset):\n",
    "    X, y = [], []\n",
    "    for data in tqdm(dataset):\n",
    "        image, label = data['image'], data['label']\n",
    "        features = np.array(image.resize((8,8))).ravel()\n",
    "        X.append(features)\n",
    "        y.append(label)\n",
    "    return np.array(X), np.array(y)"
   ]
  },
  {
   "cell_type": "code",
   "execution_count": null,
   "id": "4ddfc132-cc29-4908-b62e-dde1f22879b3",
   "metadata": {},
   "outputs": [],
   "source": [
    "X_train, y_train = create_dataset(eurosat['train'])\n",
    "X_val, y_val = create_dataset(eurosat['validation'])\n",
    "X_test, y_test = create_dataset(eurosat['test'])"
   ]
  },
  {
   "cell_type": "markdown",
   "id": "3d56ce28-1db1-40fe-8c51-59951b12886c",
   "metadata": {},
   "source": [
    "## Question\n",
    "\n",
    "Utilisez le classifieur de votre choix de scikit-learn et appliquez-le sur le jeu de données. Comparez les performances de différents classifieurs avec différents paramètres *sur le jeu de validation*. N'oubliez pas de faire attention à la métrique à utiliser (le jeu de données est-il équilibré ? y a-t-il des classes plus difficiles à prédire que d'autres ?)."
   ]
  },
  {
   "cell_type": "code",
   "execution_count": null,
   "id": "65cd1e18-e207-423e-ae20-0dc963db599d",
   "metadata": {},
   "outputs": [],
   "source": []
  },
  {
   "cell_type": "markdown",
   "id": "299463ab-aa87-4c43-b2cd-0f58ed70e2da",
   "metadata": {},
   "source": [
    "## Question\n",
    "\n",
    "Répétez l'expérience précédente mais en utilisant d'autres descripteurs pour les images. Par exemple, vous pouvez utiliser les descripteurs HOG de scikit-image (`skimage.feature.hog`), d'autres facteurs de redimensionnement de l'image,  un histogramme de couleurs ou les descripteurs profonds calculés à l'aide de la fonction `extract_deep_features` ci-dessous. Quels descripteurs obtiennent les meilleurs résultats ?"
   ]
  },
  {
   "cell_type": "code",
   "execution_count": null,
   "id": "74bb5eea-e45c-46c7-8a46-c581090a375c",
   "metadata": {},
   "outputs": [],
   "source": [
    "import torch\n",
    "import torchvision\n",
    "from torchvision.models import mobilenet_v3_small\n",
    "from torchvision.models.mobilenetv3 import MobileNet_V3_Small_Weights\n",
    "\n",
    "net = mobilenet_v3_small(weights=MobileNet_V3_Small_Weights.DEFAULT)\n",
    "net.classifier = torch.nn.Sequential(*list(net.classifier.children())[:-3])\n",
    "print(net)\n",
    "def extract_deep_features(image):\n",
    "    batch = MobileNet_V3_Small_Weights.DEFAULT.transforms()(image).unsqueeze(0)\n",
    "    #print(batch.shape)\n",
    "    #batch = torchvision.transforms.ToTensor()(image).unsqueeze(0)\n",
    "    with torch.no_grad():\n",
    "        return net(batch).squeeze().numpy()\n",
    "\n",
    "extract_deep_features(eurosat['train'][0]['image']).shape"
   ]
  },
  {
   "cell_type": "markdown",
   "id": "216e92c2-f767-4b12-88b7-902b3b2a98dd",
   "metadata": {},
   "source": [
    "## Question\n",
    "\n",
    "Évaluez votre meilleur modèle sur le jeu de test."
   ]
  },
  {
   "cell_type": "code",
   "execution_count": null,
   "id": "1f81095a-ecba-41d5-8d11-11fff393893b",
   "metadata": {},
   "outputs": [],
   "source": []
  }
 ],
 "metadata": {
  "kernelspec": {
   "display_name": "Python 3 (ipykernel)",
   "language": "python",
   "name": "python3"
  },
  "language_info": {
   "codemirror_mode": {
    "name": "ipython",
    "version": 3
   },
   "file_extension": ".py",
   "mimetype": "text/x-python",
   "name": "python",
   "nbconvert_exporter": "python",
   "pygments_lexer": "ipython3",
   "version": "3.10.12"
  }
 },
 "nbformat": 4,
 "nbformat_minor": 5
}
